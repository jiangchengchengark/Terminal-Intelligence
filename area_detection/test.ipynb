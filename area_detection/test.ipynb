{
 "cells": [
  {
   "cell_type": "code",
   "execution_count": null,
   "metadata": {},
   "outputs": [],
   "source": [
    "!pip inistall opencv-python\n",
    "!pip install yolov5"
   ]
  },
  {
   "cell_type": "code",
   "execution_count": null,
   "metadata": {},
   "outputs": [],
   "source": [
    "#predict the area of the ui using the trained model\n",
    "#---------------------------\n",
    "\n",
    "#model : model.pt\n",
    "#img_dir : directory of the images to predict\n",
    "#output_path : directory to save the predicted images\n",
    "#img_size : size of the input image for model\n",
    "#origin_size : size of the original image it usually same with your phone screen size\n",
    "\n",
    "#---------------------------\n",
    "!python ./detect.py --model ./ui_area_dev1.pt --img_dir ./images  --output_path ./output --img_size 640 --origin_size 1080 2376 \n"
   ]
  }
 ],
 "metadata": {
  "kernelspec": {
   "display_name": "yolov",
   "language": "python",
   "name": "python3"
  },
  "language_info": {
   "codemirror_mode": {
    "name": "ipython",
    "version": 3
   },
   "file_extension": ".py",
   "mimetype": "text/x-python",
   "name": "python",
   "nbconvert_exporter": "python",
   "pygments_lexer": "ipython3",
   "version": "3.10.16"
  }
 },
 "nbformat": 4,
 "nbformat_minor": 2
}
